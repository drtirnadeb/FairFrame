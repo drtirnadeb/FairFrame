{
 "cells": [
  {
   "cell_type": "markdown",
   "id": "e68ebe3f",
   "metadata": {},
   "source": [
    "# 🧪 Beginner Notebook – FairFrame Challenge\n",
    "\n",
    "This notebook provides a basic exploratory analysis of synthetic loan data. \n",
    "Your goal is to identify potential group-level disparities (e.g., based on sex, caste, or religion) in loan approvals.\n"
   ]
  },
  {
   "cell_type": "code",
   "execution_count": null,
   "id": "1cd27328",
   "metadata": {},
   "outputs": [],
   "source": [
    "import pandas as pd\n",
    "import seaborn as sns\n",
    "import matplotlib.pyplot as plt\n",
    "\n",
    "# Load dataset\n",
    "df = pd.read_csv(\"data/loan_data.csv\")\n",
    "df.head()\n"
   ]
  },
  {
   "cell_type": "code",
   "execution_count": null,
   "id": "6195dfb0",
   "metadata": {},
   "outputs": [],
   "source": [
    "# Basic Overview\n",
    "df.describe(include='all')\n",
    "df['loan_approved'].value_counts(normalize=True)\n"
   ]
  },
  {
   "cell_type": "code",
   "execution_count": null,
   "id": "b48fd197",
   "metadata": {},
   "outputs": [],
   "source": [
    "# Group-Level Approval Rates\n",
    "group_cols = ['sex', 'caste', 'religion']\n",
    "for col in group_cols:\n",
    "    print(f\"\\nApproval rate by {col}\")\n",
    "    print(df.groupby(col)['loan_approved'].mean())\n"
   ]
  },
  {
   "cell_type": "code",
   "execution_count": null,
   "id": "c21e0a70",
   "metadata": {},
   "outputs": [],
   "source": [
    "# Visualizations\n",
    "sns.barplot(x='sex', y='loan_approved', data=df)\n",
    "plt.title(\"Loan Approval Rate by Sex\")\n",
    "plt.show()\n",
    "\n",
    "sns.barplot(x='caste', y='loan_approved', data=df)\n",
    "plt.title(\"Loan Approval Rate by Caste\")\n",
    "plt.xticks(rotation=45)\n",
    "plt.show()\n",
    "\n",
    "sns.barplot(x='religion', y='loan_approved', data=df)\n",
    "plt.title(\"Loan Approval Rate by Religion\")\n",
    "plt.xticks(rotation=45)\n",
    "plt.show()\n"
   ]
  },
  {
   "cell_type": "code",
   "execution_count": null,
   "id": "5b11c1f4",
   "metadata": {},
   "outputs": [],
   "source": [
    "# Optional: Disparate Impact Ratio (Sex)\n",
    "approval_rate = df.groupby('sex')['loan_approved'].mean()\n",
    "di_ratio = approval_rate.min() / approval_rate.max()\n",
    "print(f\"Disparate Impact Ratio (Sex): {di_ratio:.2f}\")\n"
   ]
  },
  {
   "cell_type": "markdown",
   "id": "44578e62",
   "metadata": {},
   "source": [
    "# ✍️ Summary\n",
    "\n",
    "In your final submission, briefly summarize:\n",
    "\n",
    "- Which group(s) appeared to have lower approval rates?\n",
    "- Are there any group disparities that could indicate unfair bias?\n",
    "- What further data would help you clarify your findings?\n",
    "\n",
    "This analysis is intended as a first step toward identifying potential fairness concerns in the loan approval system.\n"
   ]
  }
 ],
 "metadata": {},
 "nbformat": 4,
 "nbformat_minor": 5
}
