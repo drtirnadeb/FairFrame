{
 "cells": [
  {
   "cell_type": "markdown",
   "id": "bd7a61bc",
   "metadata": {},
   "source": [
    "# 🧮 Fairness Analysis – Intermediate Level\n",
    "\n",
    "This notebook compares fairness metrics across two datasets:\n",
    "- `loan_data.csv`: Loan approval decisions\n",
    "- `promotion_data.csv`: Account promotion exposure\n",
    "\n",
    "We assess fairness using common group fairness metrics, focusing on caste-based disparities.\n"
   ]
  },
  {
   "cell_type": "markdown",
   "id": "22ff26ab",
   "metadata": {},
   "source": [
    "## 📊 Datasets\n",
    "We load and inspect two datasets for comparison."
   ]
  },
  {
   "cell_type": "code",
   "execution_count": null,
   "id": "e1721d8b",
   "metadata": {},
   "outputs": [],
   "source": [
    "import pandas as pd\n",
    "\n",
    "loan_df = pd.read_csv('../beginner/data/loan_data.csv')\n",
    "promo_df = pd.read_csv('./data/promotion_data.csv')\n",
    "\n",
    "loan_df.head()"
   ]
  },
  {
   "cell_type": "markdown",
   "id": "30fcf0d7",
   "metadata": {},
   "source": [
    "## 📐 Fairness Metrics\n",
    "We compute three metrics using caste as the protected attribute:\n",
    "\n",
    "### 1. **Disparate Impact Ratio (DIR)**\n",
    "Let $P_+^{adv}$ be the favorable outcome rate for the advantaged group, and $P_+^{dis}$ for the disadvantaged group:\n",
    "\n",
    "$$ DIR = \\frac{P_+^{dis}}{P_+^{adv}} $$\n",
    "\n",
    "### 2. **Equal Opportunity Difference (EOD)**\n",
    "True positive rate (TPR) for each group:\n",
    "\n",
    "$$ EOD = TPR_{dis} - TPR_{adv} $$\n",
    "\n",
    "### 3. **Group Accuracy**\n",
    "Let $Acc_g$ be accuracy for group $g$:\n",
    "\n",
    "$$ Acc_g = \\frac{TP + TN}{TP + TN + FP + FN} $$\n"
   ]
  },
  {
   "cell_type": "code",
   "execution_count": null,
   "id": "52dbf603",
   "metadata": {},
   "outputs": [],
   "source": [
    "# Example: Disparate Impact Ratio by caste (SC-ST vs General)\n",
    "def compute_dir(df, protected_col, outcome_col, adv_value, dis_value):\n",
    "    p_adv = df[df[protected_col] == adv_value][outcome_col].mean()\n",
    "    p_dis = df[df[protected_col] == dis_value][outcome_col].mean()\n",
    "    return round(p_dis / p_adv, 3)\n",
    "\n",
    "compute_dir(loan_df, 'caste', 'loan_approved', 'General', 'SC-ST')"
   ]
  },
  {
   "cell_type": "markdown",
   "id": "ccc7e27b",
   "metadata": {},
   "source": [
    "📌 You are encouraged to:\n",
    "- Try the same formula on `promo_df`\n",
    "- Implement Equal Opportunity and Accuracy by group\n",
    "- Compare and summarize the disparity across tasks"
   ]
  }
 ],
 "metadata": {
  "kernelspec": {
   "display_name": "Python 3",
   "language": "python",
   "name": "python3"
  },
  "language_info": {
   "name": "python",
   "version": "3.10"
  }
 },
 "nbformat": 4,
 "nbformat_minor": 5
}
