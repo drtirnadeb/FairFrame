{
 "cells": [
  {
   "cell_type": "markdown",
   "id": "bd7a61bc",
   "metadata": {},
   "source": [
    "# 🧮 Fairness Analysis – Intermediate Level\n",
    "\n",
    "This notebook compares fairness metrics across two datasets:\n",
    "- `loan_data.csv`: Loan approval decisions\n",
    "- `promotion_data.csv`: Account promotion exposure\n",
    "\n",
    "We assess fairness using common group fairness metrics, focusing on caste-based disparities.\n"
   ]
  },
  {
   "cell_type": "markdown",
   "id": "22ff26ab",
   "metadata": {},
   "source": [
    "## 📊 Datasets\n",
    "We load and inspect two datasets for comparison."
   ]
  },
  {
   "cell_type": "code",
   "execution_count": 1,
   "id": "e1721d8b",
   "metadata": {},
   "outputs": [
    {
     "data": {
      "text/html": [
       "<div>\n",
       "<style scoped>\n",
       "    .dataframe tbody tr th:only-of-type {\n",
       "        vertical-align: middle;\n",
       "    }\n",
       "\n",
       "    .dataframe tbody tr th {\n",
       "        vertical-align: top;\n",
       "    }\n",
       "\n",
       "    .dataframe thead th {\n",
       "        text-align: right;\n",
       "    }\n",
       "</style>\n",
       "<table border=\"1\" class=\"dataframe\">\n",
       "  <thead>\n",
       "    <tr style=\"text-align: right;\">\n",
       "      <th></th>\n",
       "      <th>user_id</th>\n",
       "      <th>gender</th>\n",
       "      <th>caste</th>\n",
       "      <th>religion</th>\n",
       "      <th>age</th>\n",
       "      <th>income</th>\n",
       "      <th>accent_score</th>\n",
       "      <th>loan_score</th>\n",
       "      <th>approved</th>\n",
       "    </tr>\n",
       "  </thead>\n",
       "  <tbody>\n",
       "    <tr>\n",
       "      <th>0</th>\n",
       "      <td>U000</td>\n",
       "      <td>Male</td>\n",
       "      <td>SC/ST</td>\n",
       "      <td>Other</td>\n",
       "      <td>41</td>\n",
       "      <td>65247</td>\n",
       "      <td>54.84</td>\n",
       "      <td>72.80</td>\n",
       "      <td>1</td>\n",
       "    </tr>\n",
       "    <tr>\n",
       "      <th>1</th>\n",
       "      <td>U001</td>\n",
       "      <td>Female</td>\n",
       "      <td>OBC</td>\n",
       "      <td>Hindu</td>\n",
       "      <td>52</td>\n",
       "      <td>92752</td>\n",
       "      <td>96.98</td>\n",
       "      <td>71.51</td>\n",
       "      <td>1</td>\n",
       "    </tr>\n",
       "    <tr>\n",
       "      <th>2</th>\n",
       "      <td>U002</td>\n",
       "      <td>Male</td>\n",
       "      <td>SC/ST</td>\n",
       "      <td>Hindu</td>\n",
       "      <td>43</td>\n",
       "      <td>86573</td>\n",
       "      <td>77.37</td>\n",
       "      <td>52.68</td>\n",
       "      <td>0</td>\n",
       "    </tr>\n",
       "    <tr>\n",
       "      <th>3</th>\n",
       "      <td>U003</td>\n",
       "      <td>Male</td>\n",
       "      <td>SC/ST</td>\n",
       "      <td>Hindu</td>\n",
       "      <td>53</td>\n",
       "      <td>89101</td>\n",
       "      <td>63.78</td>\n",
       "      <td>66.90</td>\n",
       "      <td>1</td>\n",
       "    </tr>\n",
       "    <tr>\n",
       "      <th>4</th>\n",
       "      <td>U004</td>\n",
       "      <td>Male</td>\n",
       "      <td>OBC</td>\n",
       "      <td>Other</td>\n",
       "      <td>23</td>\n",
       "      <td>56646</td>\n",
       "      <td>64.51</td>\n",
       "      <td>84.00</td>\n",
       "      <td>1</td>\n",
       "    </tr>\n",
       "  </tbody>\n",
       "</table>\n",
       "</div>"
      ],
      "text/plain": [
       "  user_id  gender  caste religion  age  income  accent_score  loan_score  \\\n",
       "0    U000    Male  SC/ST    Other   41   65247         54.84       72.80   \n",
       "1    U001  Female    OBC    Hindu   52   92752         96.98       71.51   \n",
       "2    U002    Male  SC/ST    Hindu   43   86573         77.37       52.68   \n",
       "3    U003    Male  SC/ST    Hindu   53   89101         63.78       66.90   \n",
       "4    U004    Male    OBC    Other   23   56646         64.51       84.00   \n",
       "\n",
       "   approved  \n",
       "0         1  \n",
       "1         1  \n",
       "2         0  \n",
       "3         1  \n",
       "4         1  "
      ]
     },
     "execution_count": 1,
     "metadata": {},
     "output_type": "execute_result"
    }
   ],
   "source": [
    "import pandas as pd\n",
    "\n",
    "loan_df = pd.read_csv('../beginner/data/loan_data.csv')\n",
    "promo_df = pd.read_csv('./data/promotion_data.csv')\n",
    "\n",
    "loan_df.head()"
   ]
  },
  {
   "cell_type": "markdown",
   "id": "30fcf0d7",
   "metadata": {},
   "source": [
    "## 📐 Fairness Metrics\n",
    "We compute three metrics using caste as the protected attribute:\n",
    "\n",
    "### 1. **Disparate Impact Ratio (DIR)**\n",
    "Let $P_+^{adv}$ be the favorable outcome rate for the advantaged group, and $P_+^{dis}$ for the disadvantaged group:\n",
    "\n",
    "$$ DIR = \\frac{P_+^{dis}}{P_+^{adv}} $$\n",
    "\n",
    "### 2. **Equal Opportunity Difference (EOD)**\n",
    "True positive rate (TPR) for each group:\n",
    "\n",
    "$$ EOD = TPR_{dis} - TPR_{adv} $$\n",
    "\n",
    "### 3. **Group Accuracy**\n",
    "Let $Acc_g$ be accuracy for group $g$:\n",
    "\n",
    "$$ Acc_g = \\frac{TP + TN}{TP + TN + FP + FN} $$\n"
   ]
  },
  {
   "cell_type": "code",
   "execution_count": 4,
   "id": "c01afd9b-fe7b-4735-b4c5-811fb5a409f2",
   "metadata": {},
   "outputs": [
    {
     "name": "stdout",
     "output_type": "stream",
     "text": [
      "caste\n",
      "General    52\n",
      "OBC        25\n",
      "SC/ST      23\n",
      "Name: count, dtype: int64\n"
     ]
    }
   ],
   "source": [
    "print(loan_df['caste'].value_counts())\n"
   ]
  },
  {
   "cell_type": "code",
   "execution_count": 5,
   "id": "c1965aee-3751-483f-bbb2-d6d9713b2bc1",
   "metadata": {},
   "outputs": [],
   "source": [
    "def compute_dir_robust(df, protected_col, outcome_col, adv_value, dis_value):\n",
    "    # Normalize values to lowercase and strip whitespace\n",
    "    df = df.copy()\n",
    "    df[protected_col] = df[protected_col].str.strip().str.lower()\n",
    "    adv_value = adv_value.strip().lower()\n",
    "    dis_value = dis_value.strip().lower()\n",
    "\n",
    "    # Compute mean outcome for advantaged and disadvantaged groups\n",
    "    p_adv = df[df[protected_col] == adv_value][outcome_col].mean()\n",
    "    p_dis = df[df[protected_col] == dis_value][outcome_col].mean()\n",
    "\n",
    "    # Return ratio with handling for zero or NaN\n",
    "    if pd.isna(p_adv) or p_adv == 0:\n",
    "        return None  # or return np.nan or raise a warning\n",
    "    return round(p_dis / p_adv, 3)\n"
   ]
  },
  {
   "cell_type": "code",
   "execution_count": 6,
   "id": "fee3c58a-3fad-4509-907e-10ff8de34d89",
   "metadata": {},
   "outputs": [
    {
     "data": {
      "text/plain": [
       "0.822"
      ]
     },
     "execution_count": 6,
     "metadata": {},
     "output_type": "execute_result"
    }
   ],
   "source": [
    "compute_dir_robust(loan_df, 'caste', 'approved', 'General', 'SC/ST')\n"
   ]
  },
  {
   "cell_type": "markdown",
   "id": "22a09bc2-f7b1-4e33-ba62-03b8be824880",
   "metadata": {},
   "source": [
    "**Observations:** This means that individuals from the SC/ST caste group are approved for loans at only 82.2% the rate of individuals from the General caste group.\n",
    "\n",
    "**Interpretation:** A value below 0.80 is commonly considered a threshold for potential disparate impact (known as the \"four-fifths rule\"). At 0.822, this example is close to the threshold, indicating a possible bias that deserves further analysis."
   ]
  },
  {
   "cell_type": "markdown",
   "id": "ccc7e27b",
   "metadata": {},
   "source": [
    "📌 You are encouraged to:\n",
    "- Try the same formula on `promo_df`\n",
    "- Implement Equal Opportunity and Accuracy by group\n",
    "- Compare and summarize the disparity across tasks"
   ]
  }
 ],
 "metadata": {
  "kernelspec": {
   "display_name": "Python 3 (ipykernel)",
   "language": "python",
   "name": "python3"
  },
  "language_info": {
   "codemirror_mode": {
    "name": "ipython",
    "version": 3
   },
   "file_extension": ".py",
   "mimetype": "text/x-python",
   "name": "python",
   "nbconvert_exporter": "python",
   "pygments_lexer": "ipython3",
   "version": "3.12.2"
  }
 },
 "nbformat": 4,
 "nbformat_minor": 5
}
